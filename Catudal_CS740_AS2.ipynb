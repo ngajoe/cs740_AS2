{
 "cells": [
  {
   "cell_type": "code",
   "execution_count": 1,
   "id": "fd69854b-d7b9-48c1-a7e2-79f3943c4733",
   "metadata": {},
   "outputs": [],
   "source": [
    "#Simulated Generic Cache\n",
    "# Libraries\n",
    "import sys\n",
    "import pandas as pd\n",
    "import math\n",
    "import numpy as np\n",
    "from numpy import nan as Nan\n",
    "import matplotlib.pyplot as plt\n",
    "from random import randrange\n",
    "import array\n",
    "#from statsmodels.tsa.api import ExponentialSmoothing, SimpleExpSmoothing, Holt"
   ]
  },
  {
   "cell_type": "code",
   "execution_count": 2,
   "id": "5476e7ad-937b-4d87-b2e4-ef265bcd47cc",
   "metadata": {
    "tags": []
   },
   "outputs": [],
   "source": [
    "class Request:\n",
    "    def __init__(self, name, interval, jitter, burstiness):\n",
    "        self.name = name\n",
    "        self.interval = interval\n",
    "        self.burstiness = burstiness\n",
    "        self.jitter = jitter\n",
    "        if self.jitter > 0:\n",
    "            self.active = interval + randrange(jitter)\n",
    "        else:\n",
    "            self.active = interval\n",
    "    \n",
    "    def send(self, step):\n",
    "        if (step % self.active == 0):\n",
    "            if self.jitter > 0:\n",
    "                self.active = self.interval + randrange(self.jitter)\n",
    "            else:\n",
    "                self.active = self.interval\n",
    "            return self.burstiness\n",
    "        else:\n",
    "            return 0\n",
    "    \n",
    "        \n",
    "\n",
    "def CreateIngress(amount):\n",
    "    IngressQueue = []\n",
    "    #Paced Request Intervals\n",
    "    Requests = []\n",
    "    Requests.append(Request(\"A\", 5, 0, 2))  # Name, Interval between bursts, jitter amount, burst amount\n",
    "    Requests.append(Request(\"B\", 2, 10, 1))\n",
    "    Requests.append(Request(\"C\", 12, 4, 6))\n",
    "    \n",
    "    for a in range(amount):\n",
    "        for req in Requests:\n",
    "            burst = req.send(a)\n",
    "            while burst > 0:\n",
    "                IngressQueue.append(req.name)\n",
    "                burst = burst - 1\n",
    "        if len(IngressQueue) < a+1:\n",
    "            IngressQueue.append(\"X\") #if nothing has been send for this timestep, add \"\"\n",
    "    \n",
    "    for b in range(amount):\n",
    "        IngressQueue.append(\"X\")\n",
    "    \n",
    "    return IngressQueue\n"
   ]
  },
  {
   "cell_type": "code",
   "execution_count": 3,
   "id": "748bd61f-28fb-4849-84a2-94d92e5feec2",
   "metadata": {
    "tags": []
   },
   "outputs": [
    {
     "name": "stdout",
     "output_type": "stream",
     "text": [
      "['A', 'A', 'B', 'C', 'C', 'C', 'C', 'C', 'C', 'A', 'A', 'A', 'A', 'B', 'B', 'C', 'C', 'C', 'C', 'C', 'C', 'A', 'A', 'B', 'A', 'A', 'B', 'B', 'C', 'C', 'C', 'C', 'C', 'C', 'A', 'A', 'B', 'C', 'C', 'C', 'C', 'C', 'C', 'A', 'A', 'B', 'B', 'A', 'A', 'A', 'A', 'B', 'C', 'C', 'C', 'C', 'C', 'C', 'B', 'A', 'A', 'B', 'A', 'A', 'B', 'C', 'C', 'C', 'C', 'C', 'C', 'B', 'A', 'A', 'B', 'A', 'A', 'B', 'B', 'A', 'A', 'C', 'C', 'C', 'C', 'C', 'C', 'B', 'A', 'A', 'B', 'A', 'A', 'B', 'C', 'C', 'C', 'C', 'C', 'C', 'A', 'A', 'B', 'B', 'C', 'C', 'C', 'C', 'C', 'C', 'A', 'A', 'B', 'B', 'B', 'A', 'A', 'B', 'A', 'A', 'B', 'C', 'C', 'C', 'C', 'C', 'C', 'X', 'X', 'X', 'X', 'X', 'X', 'X', 'X', 'X', 'X', 'X', 'X', 'X', 'X', 'X', 'X', 'X', 'X', 'X', 'X', 'X', 'X', 'X', 'X', 'X', 'X', 'X', 'X', 'X', 'X', 'X', 'X', 'X', 'X', 'X', 'X', 'X', 'X', 'X', 'X', 'X', 'X', 'X', 'X', 'X', 'X', 'X', 'X', 'X', 'X', 'X', 'X', 'X', 'X', 'X', 'X', 'X', 'X', 'X', 'X', 'X', 'X', 'X', 'X', 'X', 'X', 'X', 'X', 'X', 'X', 'X', 'X', 'X', 'X', 'X', 'X', 'X', 'X', 'X', 'X', 'X', 'X', 'X', 'X', 'X', 'X', 'X', 'X', 'X', 'X', 'X', 'X', 'X', 'X', 'X', 'X', 'X', 'X', 'X', 'X']\n"
     ]
    }
   ],
   "source": [
    "IQ = CreateIngress(100)\n",
    "print(IQ)"
   ]
  },
  {
   "cell_type": "code",
   "execution_count": 4,
   "id": "447bc016-0cbf-48b6-92ce-560eb61e2dce",
   "metadata": {},
   "outputs": [],
   "source": [
    "class Cache:\n",
    "    def __init__(self, size):\n",
    "        self.size = size\n",
    "        self.item = []\n",
    "        self.metric = []\n",
    "        \n",
    "    def load(self, load_item, load_metric):\n",
    "        if (len(self.metric) == self.size):\n",
    "            evict = self.metric.index(min(self.metric))\n",
    "            del self.metric[evict]\n",
    "            del self.item[evict]\n",
    "        self.metric.append(load_metric)\n",
    "        self.item.append(load_item)\n",
    "    \n",
    "    "
   ]
  },
  {
   "cell_type": "code",
   "execution_count": 5,
   "id": "3a25d3c5-bc2a-424d-820d-31decccf704f",
   "metadata": {},
   "outputs": [],
   "source": [
    "def LRU_Service(IQ, cachesize, fetch_time):\n",
    "    cache = Cache(cachesize)\n",
    "    result = []     # how many timesteps it took to serve a requests\n",
    "    waiting = {}    # Request Pairs = Time : Type\n",
    "    fetch_request = {}      # Request Pairs = Type : Time_Arrive\n",
    "    ts = 0          # timestep\n",
    "    \n",
    "    for ingress in IQ:\n",
    "        # Update Cache if a Fetch has completed\n",
    "        del_fetches = []\n",
    "        for fetch_type in fetch_request:\n",
    "            if (fetch_request[fetch_type] + fetch_time == ts):\n",
    "                # print(\"---Fetched: \" + fetch_type )\n",
    "                cache.load(fetch_type, ts)\n",
    "                del_fetches.append(fetch_type)\n",
    "        for x in del_fetches:\n",
    "            del fetch_request[x]\n",
    "\n",
    "        #print(\"Time: \" + str(ts) )\n",
    "        #print(\"-Arrived: \" + ingress)\n",
    "        \n",
    "        # Can we serve any requests? Check our waiting pool\n",
    "        if (ingress != \"X\"):\n",
    "            waiting.update({ ts:ingress })    # A new request has arrived!\n",
    "        del_waits = []\n",
    "        for received in waiting:  \n",
    "            result_type = waiting[received]\n",
    "            if result_type in cache.item:\n",
    "                cache.metric[cache.item.index(result_type)] = ts\n",
    "                result.append(ts - received)\n",
    "                del_waits.append(received)\n",
    "            else:  \n",
    "                if  result_type not in fetch_request:\n",
    "                    # print(\"--Requested: \" + result_type)\n",
    "                    fetch_request.update({result_type : ts+fetch_time})\n",
    "        for x in del_waits:\n",
    "            del waiting[x]\n",
    "        ts = ts + 1\n",
    "        \n",
    "        #print(\"Waiting: \" + str(waiting))\n",
    "        \n",
    "    return result"
   ]
  },
  {
   "cell_type": "code",
   "execution_count": 6,
   "id": "9e5285a7-0bc8-420f-973d-8ba891521556",
   "metadata": {},
   "outputs": [],
   "source": [
    "def BeladyAD_Service(IQ, cachesize, fetch_time):\n",
    "    cache = Cache(cachesize)\n",
    "    result = []     # how many timesteps it took to serve a requests\n",
    "    waiting = {}    # Request Pairs = Time : Type\n",
    "    fetch_request = {}      # Request Pairs = Type : Time_Arrive\n",
    "    ts = 0          # timestep\n",
    "    \n",
    "    \n",
    "    \n",
    "    for ingress in IQ:\n",
    "        # Belady Metric Update\n",
    "        if ts > 20:\n",
    "            for r in range(20):\n",
    "                for c in cache.item:\n",
    "                    if IQ[ts-r] == c:\n",
    "                        cache.metric[cache.item.index(c)] = r * -1\n",
    "        \n",
    "        # Update Cache if a Fetch has completed\n",
    "        del_fetches = []\n",
    "        for fetch_type in fetch_request:\n",
    "            if (fetch_request[fetch_type] + fetch_time == ts):\n",
    "                # print(\"---Fetched: \" + fetch_type )\n",
    "                cache.load(fetch_type, ts)\n",
    "                del_fetches.append(fetch_type)\n",
    "        for x in del_fetches:\n",
    "            del fetch_request[x]\n",
    "\n",
    "        #print(\"Time: \" + str(ts) )\n",
    "        #print(\"-Arrived: \" + ingress)\n",
    "        \n",
    "        # Can we serve any requests? Check our waiting pool\n",
    "        if (ingress != \"X\"):\n",
    "            waiting.update({ ts:ingress })    # A new request has arrived!\n",
    "        del_waits = []\n",
    "        for received in waiting:  \n",
    "            result_type = waiting[received]\n",
    "            if result_type in cache.item:\n",
    "                result.append(ts - received)\n",
    "                del_waits.append(received)\n",
    "            else:  \n",
    "                if  result_type not in fetch_request:\n",
    "                    # print(\"--Requested: \" + result_type)\n",
    "                    fetch_request.update({result_type : ts+fetch_time})\n",
    "        for x in del_waits:\n",
    "            del waiting[x]\n",
    "        ts = ts + 1\n",
    "        \n",
    "        #print(\"Waiting: \" + str(waiting))\n",
    "        \n",
    "    return result"
   ]
  },
  {
   "cell_type": "code",
   "execution_count": 7,
   "id": "4762e6b8-529f-43e5-b480-562a7bf5de2b",
   "metadata": {},
   "outputs": [],
   "source": [
    "class MADmeta:\n",
    "    def __init__(self, Z):\n",
    "        self.num_windows = 0\n",
    "        self.cum_delay = 0\n",
    "        self.win_start = -1000\n",
    "        self.Z = Z\n",
    "\n",
    "    def aggDelay(self):\n",
    "        return self.cum_delay/self.win_start\n",
    "    \n",
    "    def access(self, t):\n",
    "        TSSW = t - self.win_start\n",
    "        \n",
    "        if TSSW >= self.Z:\n",
    "            self.num_windows = self.num_windows + 1\n",
    "            self.cum_delay = self.cum_delay + self.Z\n",
    "            self.win_start = t\n",
    "        else:\n",
    "            self.cum_delay = self.cum_delay + (self.Z - TSSW)\n",
    "        \n",
    "    \n",
    "\n",
    "def MAD_Service(IQ, cachesize, fetch_time):\n",
    "    cache = Cache(cachesize)\n",
    "    result = []     # how many timesteps it took to serve a requests\n",
    "    waiting = {}    # Request Pairs = Time : Type\n",
    "    fetch_request = {}      # Request Pairs = Type : Time_Arrive\n",
    "    ts = 0          # timestep\n",
    "    MAD_Data = {\"A\" : MADmeta(fetch_time), \"B\" : MADmeta(fetch_time), \"C\" : MADmeta(fetch_time)}\n",
    "    \n",
    "    \n",
    "    for ingress in IQ:\n",
    "        # MAD Metric Update\n",
    "        if ts > 20:\n",
    "            for r in range(20):\n",
    "                for c in cache.item:\n",
    "                    if IQ[ts-r] == c:\n",
    "                        TTNA = r\n",
    "                        cache.metric[cache.item.index(c)] = MAD_Data.get(c).aggDelay()\n",
    "                        \n",
    "        \n",
    "        # Update Cache if a Fetch has completed\n",
    "        del_fetches = []\n",
    "        for fetch_type in fetch_request:\n",
    "            if (fetch_request[fetch_type] + fetch_time == ts):\n",
    "                # print(\"---Fetched: \" + fetch_type )\n",
    "                cache.load(fetch_type, ts)\n",
    "                del_fetches.append(fetch_type)\n",
    "        for x in del_fetches:\n",
    "            del fetch_request[x]\n",
    "\n",
    "        #print(\"Time: \" + str(ts) )\n",
    "        #print(\"-Arrived: \" + ingress)\n",
    "        \n",
    "        # Can we serve any requests? Check our waiting pool\n",
    "        if (ingress != \"X\"):\n",
    "            waiting.update({ ts:ingress })    # A new request has arrived!\n",
    "            MAD_Data.get(ingress).access(ts)\n",
    "        del_waits = []\n",
    "        for received in waiting:  \n",
    "            result_type = waiting[received]\n",
    "            if result_type in cache.item:\n",
    "                result.append(ts - received)\n",
    "                del_waits.append(received)\n",
    "            else:  \n",
    "                if  result_type not in fetch_request:\n",
    "                    # print(\"--Requested: \" + result_type)\n",
    "                    fetch_request.update({result_type : ts+fetch_time})\n",
    "        for x in del_waits:\n",
    "            del waiting[x]\n",
    "        ts = ts + 1\n",
    "        \n",
    "        #print(\"Waiting: \" + str(waiting))\n",
    "        \n",
    "    return result"
   ]
  },
  {
   "cell_type": "code",
   "execution_count": 8,
   "id": "b12c7828-2ccf-417a-a992-71fe2dc74e1b",
   "metadata": {},
   "outputs": [
    {
     "name": "stdout",
     "output_type": "stream",
     "text": [
      "LRU Avg Latency: 3.9191842900302114\n",
      "BeladyAD Avg Latency: 3.623867069486405\n",
      "MAD Avg Latency: 3.11178247734139\n"
     ]
    }
   ],
   "source": [
    "#Test Run\n",
    "IQ = CreateIngress(1000)\n",
    "c_size = 2\n",
    "z = 10\n",
    "LRU_result = LRU_Service(IQ, c_size, z)\n",
    "BeladyAD_result = BeladyAD_Service(IQ, c_size, z)\n",
    "MAD_result = MAD_Service(IQ, c_size, z)\n",
    "#print(LRU_result)\n",
    "#print(BeladyAD_result)\n",
    "#print(MAD_result)\n",
    "print(\"LRU Avg Latency: \" + str(sum(LRU_result)/len(LRU_result)))\n",
    "print(\"BeladyAD Avg Latency: \" + str(sum(BeladyAD_result)/len(BeladyAD_result)))\n",
    "print(\"MAD Avg Latency: \" + str(sum(MAD_result)/len(MAD_result)))\n"
   ]
  },
  {
   "cell_type": "code",
   "execution_count": 9,
   "id": "1d006ba3-c119-4672-beee-bd07c7b36c94",
   "metadata": {},
   "outputs": [],
   "source": [
    "# Full Report\n",
    "z_index = []\n",
    "LRU_results = []\n",
    "BeladyAD_results = []\n",
    "MAD_results = []\n",
    "MAD_ratio = []\n",
    "BeladyAD_ratio = []\n",
    "\n",
    "# Change delay and record for Z = 2^x\n",
    "for i in range(12):\n",
    "    z = 2 ** (i+1)\n",
    "    z_index.append(z)\n",
    "    c_size = 2\n",
    "    IQ = CreateIngress(10000)\n",
    "    \n",
    "    LRU_trial = LRU_Service(IQ, c_size, z)\n",
    "    BeladyAD_trial = BeladyAD_Service(IQ, c_size, z)\n",
    "    MAD_trial = MAD_Service(IQ, c_size, z)\n",
    "    \n",
    "    LRU_avg = (sum(LRU_trial)/len(LRU_trial))\n",
    "    BeladyAD_avg = (sum(BeladyAD_trial)/len(BeladyAD_trial))\n",
    "    MAD_avg = (sum(MAD_trial)/len(MAD_trial))\n",
    "    \n",
    "    LRU_results.append(LRU_avg)\n",
    "    BeladyAD_results.append(BeladyAD_avg)\n",
    "    MAD_results.append(MAD_avg)\n",
    "    \n",
    "    MAD_ratio.append(LRU_avg/MAD_avg)\n",
    "    BeladyAD_ratio.append(LRU_avg/BeladyAD_avg)\n"
   ]
  },
  {
   "cell_type": "code",
   "execution_count": 13,
   "id": "d8f80fa9-0c60-40cb-94a8-192fba8d8eec",
   "metadata": {},
   "outputs": [
    {
     "data": {
      "image/png": "[encoded data removed]",
      "text/plain": [
       "<Figure size 720x432 with 1 Axes>"
      ]
     },
     "metadata": {
      "needs_background": "light"
     },
     "output_type": "display_data"
    }
   ],
   "source": [
    "d = {'LRU': LRU_results, 'BeladyAD': BeladyAD_results, 'MAD': MAD_results}\n",
    "df = pd.DataFrame(data=d, index=z_index)\n",
    "\n",
    "plotA = df[['LRU', 'BeladyAD', 'MAD']].plot(kind='line', title='Caching Algorithm Evaluation', figsize=[10,6])\n"
   ]
  },
  {
   "cell_type": "code",
   "execution_count": 14,
   "id": "0a6d48fa-982b-4af3-a5a7-e92558c46a91",
   "metadata": {},
   "outputs": [
    {
     "data": {
      "image/png": "[encoded data removed]",
      "text/plain": [
       "<Figure size 720x432 with 1 Axes>"
      ]
     },
     "metadata": {
      "needs_background": "light"
     },
     "output_type": "display_data"
    }
   ],
   "source": [
    "dB = {'BeladyAD': BeladyAD_ratio, 'MAD': MAD_ratio}\n",
    "dfB = pd.DataFrame(data=dB, index=z_index)\n",
    "\n",
    "\n",
    "plotB = dfB[['BeladyAD', 'MAD']].plot(kind='line', title='Caching Algorithm Improvement Ratio Compared to LRU', logx=True, figsize=[10,6])\n",
    "plt.show()"
   ]
  },
  {
   "cell_type": "code",
   "execution_count": null,
   "id": "7be6e700-19cd-47e1-880b-4cab064abfbd",
   "metadata": {},
   "outputs": [],
   "source": []
  }
 ],
 "metadata": {
  "kernelspec": {
   "display_name": "Python 3",
   "language": "python",
   "name": "python3"
  },
  "language_info": {
   "codemirror_mode": {
    "name": "ipython",
    "version": 3
   },
   "file_extension": ".py",
   "mimetype": "text/x-python",
   "name": "python",
   "nbconvert_exporter": "python",
   "pygments_lexer": "ipython3",
   "version": "3.8.8"
  }
 },
 "nbformat": 4,
 "nbformat_minor": 5
}
